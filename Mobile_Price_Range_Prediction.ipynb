{
  "cells": [
    {
      "cell_type": "markdown",
      "metadata": {
        "id": "view-in-github",
        "colab_type": "text"
      },
      "source": [
        "<a href=\"https://colab.research.google.com/github/amanichivilkar/Mobile-Price-Range-Prediction/blob/main/Mobile_Price_Range_Prediction.ipynb\" target=\"_parent\"><img src=\"https://colab.research.google.com/assets/colab-badge.svg\" alt=\"Open In Colab\"/></a>"
      ]
    },
    {
      "cell_type": "markdown",
      "metadata": {
        "id": "UiLsIDq-36q4"
      },
      "source": [
        "# **Mobile Price Range Prediction**\n",
        "------\n",
        "In the competitive mobile phone market companies want to understand sales data of mobile phones and factors which drive the prices. The objective is to find out some relation between features of a mobile phone(eg:- RAM, Internal Memory, etc) and its selling price. In this problem, we do not have to predict the actual price but a price range indicating how high the price is. Data Description -"
      ]
    },
    {
      "cell_type": "markdown",
      "metadata": {
        "id": "T2pfx1xTqwlZ"
      },
      "source": [
        "## **Importing Libraries and Defining Function**"
      ]
    },
    {
      "cell_type": "code",
      "execution_count": null,
      "metadata": {
        "id": "krCjuYQdtGBs"
      },
      "outputs": [],
      "source": [
        "import numpy as np\n",
        "import pandas as pd\n",
        "import matplotlib.pyplot as plt\n",
        "import matplotlib.cm as cm\n",
        "import seaborn as sns \n",
        "%matplotlib inline\n",
        "sns.set_theme(style=\"whitegrid\")\n",
        "import warnings\n",
        "warnings.filterwarnings('ignore')\n",
        "\n",
        "\n",
        "# Scoring\n",
        "from sklearn.model_selection import cross_val_score\n",
        "from sklearn.model_selection import GridSearchCV\n",
        "from sklearn.metrics import accuracy_score, confusion_matrix\n",
        "\n",
        "# classifier\n",
        "from sklearn.linear_model import LogisticRegression\n",
        "from sklearn.tree import DecisionTreeClassifier\n",
        "from sklearn.ensemble import GradientBoostingClassifier\n",
        "from sklearn.ensemble import StackingClassifier\n",
        "from sklearn.svm import SVC\n",
        "from sklearn.ensemble  import  VotingClassifier\n",
        "from sklearn.ensemble  import  BaggingClassifier\n",
        "from sklearn.neighbors import  KNeighborsClassifier\n",
        "from sklearn.ensemble import RandomForestClassifier"
      ]
    },
    {
      "cell_type": "code",
      "execution_count": null,
      "metadata": {
        "colab": {
          "base_uri": "https://localhost:8080/"
        },
        "id": "KETHG2pstcug",
        "outputId": "41b508d1-791a-4627-be55-990cecbc0b5d"
      },
      "outputs": [
        {
          "output_type": "execute_result",
          "data": {
            "text/html": [
              "\n",
              "  <div id=\"df-823c353e-a86f-4bfb-8a77-a52c102c6aeb\">\n",
              "    <div class=\"colab-df-container\">\n",
              "      <div>\n",
              "<style scoped>\n",
              "    .dataframe tbody tr th:only-of-type {\n",
              "        vertical-align: middle;\n",
              "    }\n",
              "\n",
              "    .dataframe tbody tr th {\n",
              "        vertical-align: top;\n",
              "    }\n",
              "\n",
              "    .dataframe thead th {\n",
              "        text-align: right;\n",
              "    }\n",
              "</style>\n",
              "<table border=\"1\" class=\"dataframe\">\n",
              "  <thead>\n",
              "    <tr style=\"text-align: right;\">\n",
              "      <th></th>\n",
              "      <th>battery_power</th>\n",
              "      <th>blue</th>\n",
              "      <th>clock_speed</th>\n",
              "      <th>dual_sim</th>\n",
              "      <th>fc</th>\n",
              "      <th>four_g</th>\n",
              "      <th>int_memory</th>\n",
              "      <th>m_dep</th>\n",
              "      <th>mobile_wt</th>\n",
              "      <th>n_cores</th>\n",
              "      <th>pc</th>\n",
              "      <th>px_height</th>\n",
              "      <th>px_width</th>\n",
              "      <th>ram</th>\n",
              "      <th>sc_h</th>\n",
              "      <th>sc_w</th>\n",
              "      <th>talk_time</th>\n",
              "      <th>three_g</th>\n",
              "      <th>touch_screen</th>\n",
              "      <th>wifi</th>\n",
              "      <th>price_range</th>\n",
              "    </tr>\n",
              "  </thead>\n",
              "  <tbody>\n",
              "    <tr>\n",
              "      <th>0</th>\n",
              "      <td>842</td>\n",
              "      <td>0</td>\n",
              "      <td>2.2</td>\n",
              "      <td>0</td>\n",
              "      <td>1</td>\n",
              "      <td>0</td>\n",
              "      <td>7</td>\n",
              "      <td>0.6</td>\n",
              "      <td>188</td>\n",
              "      <td>2</td>\n",
              "      <td>2</td>\n",
              "      <td>20</td>\n",
              "      <td>756</td>\n",
              "      <td>2549</td>\n",
              "      <td>9</td>\n",
              "      <td>7</td>\n",
              "      <td>19</td>\n",
              "      <td>0</td>\n",
              "      <td>0</td>\n",
              "      <td>1</td>\n",
              "      <td>1</td>\n",
              "    </tr>\n",
              "    <tr>\n",
              "      <th>1</th>\n",
              "      <td>1021</td>\n",
              "      <td>1</td>\n",
              "      <td>0.5</td>\n",
              "      <td>1</td>\n",
              "      <td>0</td>\n",
              "      <td>1</td>\n",
              "      <td>53</td>\n",
              "      <td>0.7</td>\n",
              "      <td>136</td>\n",
              "      <td>3</td>\n",
              "      <td>6</td>\n",
              "      <td>905</td>\n",
              "      <td>1988</td>\n",
              "      <td>2631</td>\n",
              "      <td>17</td>\n",
              "      <td>3</td>\n",
              "      <td>7</td>\n",
              "      <td>1</td>\n",
              "      <td>1</td>\n",
              "      <td>0</td>\n",
              "      <td>2</td>\n",
              "    </tr>\n",
              "    <tr>\n",
              "      <th>2</th>\n",
              "      <td>563</td>\n",
              "      <td>1</td>\n",
              "      <td>0.5</td>\n",
              "      <td>1</td>\n",
              "      <td>2</td>\n",
              "      <td>1</td>\n",
              "      <td>41</td>\n",
              "      <td>0.9</td>\n",
              "      <td>145</td>\n",
              "      <td>5</td>\n",
              "      <td>6</td>\n",
              "      <td>1263</td>\n",
              "      <td>1716</td>\n",
              "      <td>2603</td>\n",
              "      <td>11</td>\n",
              "      <td>2</td>\n",
              "      <td>9</td>\n",
              "      <td>1</td>\n",
              "      <td>1</td>\n",
              "      <td>0</td>\n",
              "      <td>2</td>\n",
              "    </tr>\n",
              "    <tr>\n",
              "      <th>3</th>\n",
              "      <td>615</td>\n",
              "      <td>1</td>\n",
              "      <td>2.5</td>\n",
              "      <td>0</td>\n",
              "      <td>0</td>\n",
              "      <td>0</td>\n",
              "      <td>10</td>\n",
              "      <td>0.8</td>\n",
              "      <td>131</td>\n",
              "      <td>6</td>\n",
              "      <td>9</td>\n",
              "      <td>1216</td>\n",
              "      <td>1786</td>\n",
              "      <td>2769</td>\n",
              "      <td>16</td>\n",
              "      <td>8</td>\n",
              "      <td>11</td>\n",
              "      <td>1</td>\n",
              "      <td>0</td>\n",
              "      <td>0</td>\n",
              "      <td>2</td>\n",
              "    </tr>\n",
              "    <tr>\n",
              "      <th>4</th>\n",
              "      <td>1821</td>\n",
              "      <td>1</td>\n",
              "      <td>1.2</td>\n",
              "      <td>0</td>\n",
              "      <td>13</td>\n",
              "      <td>1</td>\n",
              "      <td>44</td>\n",
              "      <td>0.6</td>\n",
              "      <td>141</td>\n",
              "      <td>2</td>\n",
              "      <td>14</td>\n",
              "      <td>1208</td>\n",
              "      <td>1212</td>\n",
              "      <td>1411</td>\n",
              "      <td>8</td>\n",
              "      <td>2</td>\n",
              "      <td>15</td>\n",
              "      <td>1</td>\n",
              "      <td>1</td>\n",
              "      <td>0</td>\n",
              "      <td>1</td>\n",
              "    </tr>\n",
              "  </tbody>\n",
              "</table>\n",
              "</div>\n",
              "      <button class=\"colab-df-convert\" onclick=\"convertToInteractive('df-823c353e-a86f-4bfb-8a77-a52c102c6aeb')\"\n",
              "              title=\"Convert this dataframe to an interactive table.\"\n",
              "              style=\"display:none;\">\n",
              "        \n",
              "  <svg xmlns=\"http://www.w3.org/2000/svg\" height=\"24px\"viewBox=\"0 0 24 24\"\n",
              "       width=\"24px\">\n",
              "    <path d=\"M0 0h24v24H0V0z\" fill=\"none\"/>\n",
              "    <path d=\"M18.56 5.44l.94 2.06.94-2.06 2.06-.94-2.06-.94-.94-2.06-.94 2.06-2.06.94zm-11 1L8.5 8.5l.94-2.06 2.06-.94-2.06-.94L8.5 2.5l-.94 2.06-2.06.94zm10 10l.94 2.06.94-2.06 2.06-.94-2.06-.94-.94-2.06-.94 2.06-2.06.94z\"/><path d=\"M17.41 7.96l-1.37-1.37c-.4-.4-.92-.59-1.43-.59-.52 0-1.04.2-1.43.59L10.3 9.45l-7.72 7.72c-.78.78-.78 2.05 0 2.83L4 21.41c.39.39.9.59 1.41.59.51 0 1.02-.2 1.41-.59l7.78-7.78 2.81-2.81c.8-.78.8-2.07 0-2.86zM5.41 20L4 18.59l7.72-7.72 1.47 1.35L5.41 20z\"/>\n",
              "  </svg>\n",
              "      </button>\n",
              "      \n",
              "  <style>\n",
              "    .colab-df-container {\n",
              "      display:flex;\n",
              "      flex-wrap:wrap;\n",
              "      gap: 12px;\n",
              "    }\n",
              "\n",
              "    .colab-df-convert {\n",
              "      background-color: #E8F0FE;\n",
              "      border: none;\n",
              "      border-radius: 50%;\n",
              "      cursor: pointer;\n",
              "      display: none;\n",
              "      fill: #1967D2;\n",
              "      height: 32px;\n",
              "      padding: 0 0 0 0;\n",
              "      width: 32px;\n",
              "    }\n",
              "\n",
              "    .colab-df-convert:hover {\n",
              "      background-color: #E2EBFA;\n",
              "      box-shadow: 0px 1px 2px rgba(60, 64, 67, 0.3), 0px 1px 3px 1px rgba(60, 64, 67, 0.15);\n",
              "      fill: #174EA6;\n",
              "    }\n",
              "\n",
              "    [theme=dark] .colab-df-convert {\n",
              "      background-color: #3B4455;\n",
              "      fill: #D2E3FC;\n",
              "    }\n",
              "\n",
              "    [theme=dark] .colab-df-convert:hover {\n",
              "      background-color: #434B5C;\n",
              "      box-shadow: 0px 1px 3px 1px rgba(0, 0, 0, 0.15);\n",
              "      filter: drop-shadow(0px 1px 2px rgba(0, 0, 0, 0.3));\n",
              "      fill: #FFFFFF;\n",
              "    }\n",
              "  </style>\n",
              "\n",
              "      <script>\n",
              "        const buttonEl =\n",
              "          document.querySelector('#df-823c353e-a86f-4bfb-8a77-a52c102c6aeb button.colab-df-convert');\n",
              "        buttonEl.style.display =\n",
              "          google.colab.kernel.accessAllowed ? 'block' : 'none';\n",
              "\n",
              "        async function convertToInteractive(key) {\n",
              "          const element = document.querySelector('#df-823c353e-a86f-4bfb-8a77-a52c102c6aeb');\n",
              "          const dataTable =\n",
              "            await google.colab.kernel.invokeFunction('convertToInteractive',\n",
              "                                                     [key], {});\n",
              "          if (!dataTable) return;\n",
              "\n",
              "          const docLinkHtml = 'Like what you see? Visit the ' +\n",
              "            '<a target=\"_blank\" href=https://colab.research.google.com/notebooks/data_table.ipynb>data table notebook</a>'\n",
              "            + ' to learn more about interactive tables.';\n",
              "          element.innerHTML = '';\n",
              "          dataTable['output_type'] = 'display_data';\n",
              "          await google.colab.output.renderOutput(dataTable, element);\n",
              "          const docLink = document.createElement('div');\n",
              "          docLink.innerHTML = docLinkHtml;\n",
              "          element.appendChild(docLink);\n",
              "        }\n",
              "      </script>\n",
              "    </div>\n",
              "  </div>\n",
              "  "
            ],
            "text/plain": [
              "   battery_power  blue  clock_speed  ...  touch_screen  wifi  price_range\n",
              "0            842     0          2.2  ...             0     1            1\n",
              "1           1021     1          0.5  ...             1     0            2\n",
              "2            563     1          0.5  ...             1     0            2\n",
              "3            615     1          2.5  ...             0     0            2\n",
              "4           1821     1          1.2  ...             1     0            1\n",
              "\n",
              "[5 rows x 21 columns]"
            ]
          },
          "metadata": {},
          "execution_count": 2
        }
      ],
      "source": [
        "df=pd.read_csv(\"/content/drive/MyDrive/data/Copy of data_mobile_price_range.csv\")\n",
        "df.head()"
      ]
    },
    {
      "cell_type": "code",
      "execution_count": null,
      "metadata": {
        "colab": {
          "base_uri": "https://localhost:8080/"
        },
        "id": "vZM432DTRYFk",
        "outputId": "1a2aed27-9902-4f16-9215-2280d1c5e342"
      },
      "outputs": [
        {
          "output_type": "stream",
          "name": "stdout",
          "text": [
            "Requirement already satisfied: mlxtend in /usr/local/lib/python3.7/dist-packages (0.14.0)\n",
            "Collecting mlxtend\n",
            "  Downloading mlxtend-0.19.0-py2.py3-none-any.whl (1.3 MB)\n",
            "\u001b[K     |████████████████████████████████| 1.3 MB 7.1 MB/s \n",
            "\u001b[?25hRequirement already satisfied: setuptools in /usr/local/lib/python3.7/dist-packages (from mlxtend) (57.4.0)\n",
            "Requirement already satisfied: joblib>=0.13.2 in /usr/local/lib/python3.7/dist-packages (from mlxtend) (1.1.0)\n",
            "Requirement already satisfied: scikit-learn>=0.20.3 in /usr/local/lib/python3.7/dist-packages (from mlxtend) (1.0.2)\n",
            "Requirement already satisfied: scipy>=1.2.1 in /usr/local/lib/python3.7/dist-packages (from mlxtend) (1.4.1)\n",
            "Requirement already satisfied: pandas>=0.24.2 in /usr/local/lib/python3.7/dist-packages (from mlxtend) (1.1.5)\n",
            "Requirement already satisfied: numpy>=1.16.2 in /usr/local/lib/python3.7/dist-packages (from mlxtend) (1.19.5)\n",
            "Requirement already satisfied: matplotlib>=3.0.0 in /usr/local/lib/python3.7/dist-packages (from mlxtend) (3.2.2)\n",
            "Requirement already satisfied: python-dateutil>=2.1 in /usr/local/lib/python3.7/dist-packages (from matplotlib>=3.0.0->mlxtend) (2.8.2)\n",
            "Requirement already satisfied: pyparsing!=2.0.4,!=2.1.2,!=2.1.6,>=2.0.1 in /usr/local/lib/python3.7/dist-packages (from matplotlib>=3.0.0->mlxtend) (3.0.6)\n",
            "Requirement already satisfied: cycler>=0.10 in /usr/local/lib/python3.7/dist-packages (from matplotlib>=3.0.0->mlxtend) (0.11.0)\n",
            "Requirement already satisfied: kiwisolver>=1.0.1 in /usr/local/lib/python3.7/dist-packages (from matplotlib>=3.0.0->mlxtend) (1.3.2)\n",
            "Requirement already satisfied: pytz>=2017.2 in /usr/local/lib/python3.7/dist-packages (from pandas>=0.24.2->mlxtend) (2018.9)\n",
            "Requirement already satisfied: six>=1.5 in /usr/local/lib/python3.7/dist-packages (from python-dateutil>=2.1->matplotlib>=3.0.0->mlxtend) (1.15.0)\n",
            "Requirement already satisfied: threadpoolctl>=2.0.0 in /usr/local/lib/python3.7/dist-packages (from scikit-learn>=0.20.3->mlxtend) (3.0.0)\n",
            "Installing collected packages: mlxtend\n",
            "  Attempting uninstall: mlxtend\n",
            "    Found existing installation: mlxtend 0.14.0\n",
            "    Uninstalling mlxtend-0.14.0:\n",
            "      Successfully uninstalled mlxtend-0.14.0\n",
            "Successfully installed mlxtend-0.19.0\n"
          ]
        }
      ],
      "source": [
        "%pip install mlxtend --upgrade"
      ]
    },
    {
      "cell_type": "code",
      "execution_count": null,
      "metadata": {
        "colab": {
          "base_uri": "https://localhost:8080/"
        },
        "id": "40BhvR0-8HcV",
        "outputId": "334c66ee-2651-4ca6-e219-0b8f49ed4581"
      },
      "outputs": [
        {
          "output_type": "stream",
          "name": "stdout",
          "text": [
            "Collecting lime\n",
            "  Downloading lime-0.2.0.1.tar.gz (275 kB)\n",
            "\u001b[?25l\r\u001b[K     |█▏                              | 10 kB 28.3 MB/s eta 0:00:01\r\u001b[K     |██▍                             | 20 kB 28.5 MB/s eta 0:00:01\r\u001b[K     |███▋                            | 30 kB 18.9 MB/s eta 0:00:01\r\u001b[K     |████▊                           | 40 kB 15.4 MB/s eta 0:00:01\r\u001b[K     |██████                          | 51 kB 8.7 MB/s eta 0:00:01\r\u001b[K     |███████▏                        | 61 kB 8.6 MB/s eta 0:00:01\r\u001b[K     |████████▎                       | 71 kB 9.3 MB/s eta 0:00:01\r\u001b[K     |█████████▌                      | 81 kB 10.3 MB/s eta 0:00:01\r\u001b[K     |██████████▊                     | 92 kB 10.2 MB/s eta 0:00:01\r\u001b[K     |███████████▉                    | 102 kB 8.3 MB/s eta 0:00:01\r\u001b[K     |█████████████                   | 112 kB 8.3 MB/s eta 0:00:01\r\u001b[K     |██████████████▎                 | 122 kB 8.3 MB/s eta 0:00:01\r\u001b[K     |███████████████▌                | 133 kB 8.3 MB/s eta 0:00:01\r\u001b[K     |████████████████▋               | 143 kB 8.3 MB/s eta 0:00:01\r\u001b[K     |█████████████████▉              | 153 kB 8.3 MB/s eta 0:00:01\r\u001b[K     |███████████████████             | 163 kB 8.3 MB/s eta 0:00:01\r\u001b[K     |████████████████████▏           | 174 kB 8.3 MB/s eta 0:00:01\r\u001b[K     |█████████████████████▍          | 184 kB 8.3 MB/s eta 0:00:01\r\u001b[K     |██████████████████████▋         | 194 kB 8.3 MB/s eta 0:00:01\r\u001b[K     |███████████████████████▊        | 204 kB 8.3 MB/s eta 0:00:01\r\u001b[K     |█████████████████████████       | 215 kB 8.3 MB/s eta 0:00:01\r\u001b[K     |██████████████████████████▏     | 225 kB 8.3 MB/s eta 0:00:01\r\u001b[K     |███████████████████████████▍    | 235 kB 8.3 MB/s eta 0:00:01\r\u001b[K     |████████████████████████████▌   | 245 kB 8.3 MB/s eta 0:00:01\r\u001b[K     |█████████████████████████████▊  | 256 kB 8.3 MB/s eta 0:00:01\r\u001b[K     |███████████████████████████████ | 266 kB 8.3 MB/s eta 0:00:01\r\u001b[K     |████████████████████████████████| 275 kB 8.3 MB/s \n",
            "\u001b[?25hRequirement already satisfied: matplotlib in /usr/local/lib/python3.7/dist-packages (from lime) (3.2.2)\n",
            "Requirement already satisfied: numpy in /usr/local/lib/python3.7/dist-packages (from lime) (1.19.5)\n",
            "Requirement already satisfied: scipy in /usr/local/lib/python3.7/dist-packages (from lime) (1.4.1)\n",
            "Requirement already satisfied: tqdm in /usr/local/lib/python3.7/dist-packages (from lime) (4.62.3)\n",
            "Requirement already satisfied: scikit-learn>=0.18 in /usr/local/lib/python3.7/dist-packages (from lime) (1.0.2)\n",
            "Requirement already satisfied: scikit-image>=0.12 in /usr/local/lib/python3.7/dist-packages (from lime) (0.18.3)\n",
            "Requirement already satisfied: PyWavelets>=1.1.1 in /usr/local/lib/python3.7/dist-packages (from scikit-image>=0.12->lime) (1.2.0)\n",
            "Requirement already satisfied: networkx>=2.0 in /usr/local/lib/python3.7/dist-packages (from scikit-image>=0.12->lime) (2.6.3)\n",
            "Requirement already satisfied: pillow!=7.1.0,!=7.1.1,>=4.3.0 in /usr/local/lib/python3.7/dist-packages (from scikit-image>=0.12->lime) (7.1.2)\n",
            "Requirement already satisfied: tifffile>=2019.7.26 in /usr/local/lib/python3.7/dist-packages (from scikit-image>=0.12->lime) (2021.11.2)\n",
            "Requirement already satisfied: imageio>=2.3.0 in /usr/local/lib/python3.7/dist-packages (from scikit-image>=0.12->lime) (2.4.1)\n",
            "Requirement already satisfied: pyparsing!=2.0.4,!=2.1.2,!=2.1.6,>=2.0.1 in /usr/local/lib/python3.7/dist-packages (from matplotlib->lime) (3.0.6)\n",
            "Requirement already satisfied: cycler>=0.10 in /usr/local/lib/python3.7/dist-packages (from matplotlib->lime) (0.11.0)\n",
            "Requirement already satisfied: python-dateutil>=2.1 in /usr/local/lib/python3.7/dist-packages (from matplotlib->lime) (2.8.2)\n",
            "Requirement already satisfied: kiwisolver>=1.0.1 in /usr/local/lib/python3.7/dist-packages (from matplotlib->lime) (1.3.2)\n",
            "Requirement already satisfied: six>=1.5 in /usr/local/lib/python3.7/dist-packages (from python-dateutil>=2.1->matplotlib->lime) (1.15.0)\n",
            "Requirement already satisfied: joblib>=0.11 in /usr/local/lib/python3.7/dist-packages (from scikit-learn>=0.18->lime) (1.1.0)\n",
            "Requirement already satisfied: threadpoolctl>=2.0.0 in /usr/local/lib/python3.7/dist-packages (from scikit-learn>=0.18->lime) (3.0.0)\n",
            "Building wheels for collected packages: lime\n",
            "  Building wheel for lime (setup.py) ... \u001b[?25l\u001b[?25hdone\n",
            "  Created wheel for lime: filename=lime-0.2.0.1-py3-none-any.whl size=283857 sha256=318c6c894b7420504fdf8354c0a15b988344c885b4a1f5819d67783893ef9f90\n",
            "  Stored in directory: /root/.cache/pip/wheels/ca/cb/e5/ac701e12d365a08917bf4c6171c0961bc880a8181359c66aa7\n",
            "Successfully built lime\n",
            "Installing collected packages: lime\n",
            "Successfully installed lime-0.2.0.1\n"
          ]
        }
      ],
      "source": [
        "!pip3 install lime"
      ]
    },
    {
      "cell_type": "code",
      "execution_count": null,
      "metadata": {
        "id": "2JNoSXNB8TVp"
      },
      "outputs": [],
      "source": [
        "import lime\n",
        "import lime.lime_tabular"
      ]
    },
    {
      "cell_type": "code",
      "execution_count": null,
      "metadata": {
        "colab": {
          "base_uri": "https://localhost:8080/"
        },
        "id": "SaH2z9EcV5Kz",
        "outputId": "eced671a-7bf5-4042-d665-64051379b133"
      },
      "outputs": [
        {
          "output_type": "stream",
          "name": "stdout",
          "text": [
            "Collecting shap\n",
            "  Downloading shap-0.40.0-cp37-cp37m-manylinux2010_x86_64.whl (564 kB)\n",
            "\u001b[?25l\r\u001b[K     |▋                               | 10 kB 32.5 MB/s eta 0:00:01\r\u001b[K     |█▏                              | 20 kB 34.2 MB/s eta 0:00:01\r\u001b[K     |█▊                              | 30 kB 13.5 MB/s eta 0:00:01\r\u001b[K     |██▎                             | 40 kB 10.4 MB/s eta 0:00:01\r\u001b[K     |███                             | 51 kB 7.1 MB/s eta 0:00:01\r\u001b[K     |███▌                            | 61 kB 7.1 MB/s eta 0:00:01\r\u001b[K     |████                            | 71 kB 7.4 MB/s eta 0:00:01\r\u001b[K     |████▋                           | 81 kB 8.4 MB/s eta 0:00:01\r\u001b[K     |█████▏                          | 92 kB 7.8 MB/s eta 0:00:01\r\u001b[K     |█████▉                          | 102 kB 6.8 MB/s eta 0:00:01\r\u001b[K     |██████▍                         | 112 kB 6.8 MB/s eta 0:00:01\r\u001b[K     |███████                         | 122 kB 6.8 MB/s eta 0:00:01\r\u001b[K     |███████▌                        | 133 kB 6.8 MB/s eta 0:00:01\r\u001b[K     |████████▏                       | 143 kB 6.8 MB/s eta 0:00:01\r\u001b[K     |████████▊                       | 153 kB 6.8 MB/s eta 0:00:01\r\u001b[K     |█████████▎                      | 163 kB 6.8 MB/s eta 0:00:01\r\u001b[K     |█████████▉                      | 174 kB 6.8 MB/s eta 0:00:01\r\u001b[K     |██████████▍                     | 184 kB 6.8 MB/s eta 0:00:01\r\u001b[K     |███████████                     | 194 kB 6.8 MB/s eta 0:00:01\r\u001b[K     |███████████▋                    | 204 kB 6.8 MB/s eta 0:00:01\r\u001b[K     |████████████▏                   | 215 kB 6.8 MB/s eta 0:00:01\r\u001b[K     |████████████▊                   | 225 kB 6.8 MB/s eta 0:00:01\r\u001b[K     |█████████████▍                  | 235 kB 6.8 MB/s eta 0:00:01\r\u001b[K     |██████████████                  | 245 kB 6.8 MB/s eta 0:00:01\r\u001b[K     |██████████████▌                 | 256 kB 6.8 MB/s eta 0:00:01\r\u001b[K     |███████████████                 | 266 kB 6.8 MB/s eta 0:00:01\r\u001b[K     |███████████████▋                | 276 kB 6.8 MB/s eta 0:00:01\r\u001b[K     |████████████████▎               | 286 kB 6.8 MB/s eta 0:00:01\r\u001b[K     |████████████████▉               | 296 kB 6.8 MB/s eta 0:00:01\r\u001b[K     |█████████████████▍              | 307 kB 6.8 MB/s eta 0:00:01\r\u001b[K     |██████████████████              | 317 kB 6.8 MB/s eta 0:00:01\r\u001b[K     |██████████████████▋             | 327 kB 6.8 MB/s eta 0:00:01\r\u001b[K     |███████████████████▏            | 337 kB 6.8 MB/s eta 0:00:01\r\u001b[K     |███████████████████▊            | 348 kB 6.8 MB/s eta 0:00:01\r\u001b[K     |████████████████████▎           | 358 kB 6.8 MB/s eta 0:00:01\r\u001b[K     |████████████████████▉           | 368 kB 6.8 MB/s eta 0:00:01\r\u001b[K     |█████████████████████▌          | 378 kB 6.8 MB/s eta 0:00:01\r\u001b[K     |██████████████████████          | 389 kB 6.8 MB/s eta 0:00:01\r\u001b[K     |██████████████████████▋         | 399 kB 6.8 MB/s eta 0:00:01\r\u001b[K     |███████████████████████▏        | 409 kB 6.8 MB/s eta 0:00:01\r\u001b[K     |███████████████████████▉        | 419 kB 6.8 MB/s eta 0:00:01\r\u001b[K     |████████████████████████▍       | 430 kB 6.8 MB/s eta 0:00:01\r\u001b[K     |█████████████████████████       | 440 kB 6.8 MB/s eta 0:00:01\r\u001b[K     |█████████████████████████▌      | 450 kB 6.8 MB/s eta 0:00:01\r\u001b[K     |██████████████████████████      | 460 kB 6.8 MB/s eta 0:00:01\r\u001b[K     |██████████████████████████▊     | 471 kB 6.8 MB/s eta 0:00:01\r\u001b[K     |███████████████████████████▎    | 481 kB 6.8 MB/s eta 0:00:01\r\u001b[K     |███████████████████████████▉    | 491 kB 6.8 MB/s eta 0:00:01\r\u001b[K     |████████████████████████████▍   | 501 kB 6.8 MB/s eta 0:00:01\r\u001b[K     |█████████████████████████████   | 512 kB 6.8 MB/s eta 0:00:01\r\u001b[K     |█████████████████████████████▋  | 522 kB 6.8 MB/s eta 0:00:01\r\u001b[K     |██████████████████████████████▏ | 532 kB 6.8 MB/s eta 0:00:01\r\u001b[K     |██████████████████████████████▊ | 542 kB 6.8 MB/s eta 0:00:01\r\u001b[K     |███████████████████████████████▎| 552 kB 6.8 MB/s eta 0:00:01\r\u001b[K     |████████████████████████████████| 563 kB 6.8 MB/s eta 0:00:01\r\u001b[K     |████████████████████████████████| 564 kB 6.8 MB/s \n",
            "\u001b[?25hRequirement already satisfied: numba in /usr/local/lib/python3.7/dist-packages (from shap) (0.51.2)\n",
            "Requirement already satisfied: scikit-learn in /usr/local/lib/python3.7/dist-packages (from shap) (1.0.2)\n",
            "Requirement already satisfied: pandas in /usr/local/lib/python3.7/dist-packages (from shap) (1.1.5)\n",
            "Requirement already satisfied: scipy in /usr/local/lib/python3.7/dist-packages (from shap) (1.4.1)\n",
            "Collecting slicer==0.0.7\n",
            "  Downloading slicer-0.0.7-py3-none-any.whl (14 kB)\n",
            "Requirement already satisfied: numpy in /usr/local/lib/python3.7/dist-packages (from shap) (1.19.5)\n",
            "Requirement already satisfied: tqdm>4.25.0 in /usr/local/lib/python3.7/dist-packages (from shap) (4.62.3)\n",
            "Requirement already satisfied: cloudpickle in /usr/local/lib/python3.7/dist-packages (from shap) (1.3.0)\n",
            "Requirement already satisfied: packaging>20.9 in /usr/local/lib/python3.7/dist-packages (from shap) (21.3)\n",
            "Requirement already satisfied: pyparsing!=3.0.5,>=2.0.2 in /usr/local/lib/python3.7/dist-packages (from packaging>20.9->shap) (3.0.6)\n",
            "Requirement already satisfied: llvmlite<0.35,>=0.34.0.dev0 in /usr/local/lib/python3.7/dist-packages (from numba->shap) (0.34.0)\n",
            "Requirement already satisfied: setuptools in /usr/local/lib/python3.7/dist-packages (from numba->shap) (57.4.0)\n",
            "Requirement already satisfied: pytz>=2017.2 in /usr/local/lib/python3.7/dist-packages (from pandas->shap) (2018.9)\n",
            "Requirement already satisfied: python-dateutil>=2.7.3 in /usr/local/lib/python3.7/dist-packages (from pandas->shap) (2.8.2)\n",
            "Requirement already satisfied: six>=1.5 in /usr/local/lib/python3.7/dist-packages (from python-dateutil>=2.7.3->pandas->shap) (1.15.0)\n",
            "Requirement already satisfied: joblib>=0.11 in /usr/local/lib/python3.7/dist-packages (from scikit-learn->shap) (1.1.0)\n",
            "Requirement already satisfied: threadpoolctl>=2.0.0 in /usr/local/lib/python3.7/dist-packages (from scikit-learn->shap) (3.0.0)\n",
            "Installing collected packages: slicer, shap\n",
            "Successfully installed shap-0.40.0 slicer-0.0.7\n"
          ]
        }
      ],
      "source": [
        "pip install shap"
      ]
    },
    {
      "cell_type": "code",
      "execution_count": null,
      "metadata": {
        "id": "gURcNCc7V5K0"
      },
      "outputs": [],
      "source": [
        "import shap"
      ]
    },
    {
      "cell_type": "code",
      "execution_count": null,
      "metadata": {
        "id": "HQY1_p10Brl3"
      },
      "outputs": [],
      "source": [
        "def accuracy(lr):\n",
        "        lr.fit(x_train, y_train)\n",
        "\n",
        "        # predicted y\n",
        "        pred_y_train=lr.predict(x_train)\n",
        "        pred_y_test=lr.predict(x_test)\n",
        "        \n",
        "\n",
        "        from sklearn.metrics import accuracy_score, confusion_matrix\n",
        "        # accuracy_score\n",
        "        print(f'train_accuracy_score={accuracy_score(pred_y_train,y_train)}') \n",
        "        print(f'test_accuracy_score={accuracy_score(pred_y_test,y_test)}')\n",
        "\n",
        "        # CV_score\n",
        "        scores = cross_val_score(lr,x, y, scoring = 'accuracy', cv = 5)\n",
        "        print(f'cv_mean_score={np.mean(scores)}')"
      ]
    },
    {
      "cell_type": "code",
      "execution_count": null,
      "metadata": {
        "id": "NzsgFDv38qhl"
      },
      "outputs": [],
      "source": [
        "# Fitting and Scoring\n",
        "def data(lr,row_number):\n",
        "        lr.fit(x_train, y_train)\n",
        "\n",
        "        # predicted y\n",
        "        pred_y_train=lr.predict(x_train)\n",
        "        pred_y_test=lr.predict(x_test)\n",
        "        \n",
        "        # predict_probability    \n",
        "        lr.predict_proba(x_test)\n",
        "\n",
        "        from sklearn.metrics import accuracy_score, confusion_matrix\n",
        "        # accuracy_score\n",
        "        print(f'train_accuracy_score={accuracy_score(pred_y_train,y_train)}') \n",
        "        print(f'test_accuracy_score={accuracy_score(pred_y_test,y_test)}')\n",
        "\n",
        "        # CV_score\n",
        "        scores = cross_val_score(lr,x, y, scoring = 'accuracy', cv = 5)\n",
        "        print(f'cv_mean_score={np.mean(scores)}')\n",
        "\n",
        "        # Confusion Matrix\n",
        "        print(f\"confusion_matrix_train= \\n {confusion_matrix(y_train, pred_y_train, normalize='true')}\") # For tain\n",
        "        print(f\"confusion_matrix_test= \\n {confusion_matrix(y_test, pred_y_test, normalize='true')}\") # For test\n",
        "\n",
        "        from sklearn.metrics import classification_report\n",
        "        #classification_report\n",
        "        print(f'train_report= \\n {classification_report(y_train, pred_y_train)}')\n",
        "        print(f'test_report= \\n {classification_report(y_test, pred_y_test)}')\n",
        "\n",
        "        # LIME Explainability\n",
        "        explainer = lime.lime_tabular.LimeTabularExplainer(x_train.values, \n",
        "                                                    feature_names=['battery_power', 'blue', 'clock_speed', 'dual_sim', 'fc', 'four_g',\n",
        "                                                    'int_memory', 'm_dep', 'mobile_wt', 'n_cores', 'pc', 'px_height',\n",
        "                                                    'px_width', 'ram', 'sc_h', 'sc_w', 'talk_time', 'three_g', 'touch_screen', 'wifi'], \n",
        "                                                      class_names=[0,1,2,3], \n",
        "                                                      categorical_features=[1,3,5,17,18,19],\n",
        "                                                      categorical_names=['blue', 'dual_sim', 'four_g','three_g','touch_screen', 'wifi',])\n",
        "                                                      \n",
        "\n",
        "        explanation = explainer.explain_instance(x_test.values[row_number], lr.predict_proba, num_features=20)   \n",
        "\n",
        "        print(f'predicted_value={pred_y_test[row_number]}')\n",
        "        print(f'Actual_value={y_test.values[row_number]}')\n",
        "        return(explanation.show_in_notebook(show_all=False))\n"
      ]
    },
    {
      "cell_type": "code",
      "execution_count": null,
      "metadata": {
        "id": "X2reTkyHVly0"
      },
      "outputs": [],
      "source": [
        "# Get the explanation for RandomForest\n",
        "\n",
        "# def explanation(ml,obs_number):\n",
        "#     ml.fit(x_train,y_train)\n",
        "#     y_pred = ml.predict(x_test)\n",
        "\n",
        "#     explanation = explainer.explain_instance(x_test.values[obs_number], ml.predict, num_features=14)\n",
        "#     print(f'predicted_value={y_pred[obs_number]}')\n",
        "#     print(f'Actual_value={y_test.values[obs_number]}')\n",
        "#     explanation.show_in_notebook(show_all=False)"
      ]
    },
    {
      "cell_type": "code",
      "execution_count": null,
      "metadata": {
        "id": "jy99CRzM7ey4"
      },
      "outputs": [],
      "source": [
        "# weight of the features for decision tree and random forest\n",
        "def weight(ml):  \n",
        "     ml.fit(x_train,y_train)\n",
        "     y_pred = ml.predict(x_test)\n",
        "\n",
        "     # plot\n",
        "     df5=pd.DataFrame({\"feature\":independent,\"weight\":ml.feature_importances_}).sort_values('weight',ascending=False).head(10)\n",
        "\n",
        "     plt.figure(figsize=(10,5))\n",
        "    \n",
        "     sns.barplot(x=df5.weight,y=df5.feature).set(title=f'Top 10 Important features for {ml}')\n",
        "     "
      ]
    }
  ],
  "metadata": {
    "colab": {
      "collapsed_sections": [
        "6GvQTeW5bsse",
        "r6DfUHRXDc9F",
        "zrgbwZG5FvoG",
        "OGRt7hTbXWYc",
        "46dkwWGV2QUD",
        "pRdngu5c8fPb",
        "VYspWFH2Ji_n",
        "ul0u6IQVuJgf",
        "pEh3iDRG2WzW",
        "Ci7O8xTVxWke",
        "RqjCL20yUC07",
        "3EUWBQFu7UIl",
        "uVS7oflUDJ6R",
        "k7KnSQpTjpTl"
      ],
      "name": "Mobile Price Range Prediction.ipynb",
      "provenance": [],
      "mount_file_id": "1_eZcFjLj8kEK5rTimNcJz7qJioPFFT6C",
      "authorship_tag": "ABX9TyPpK0EgJan4jzCqFz6tJ0le",
      "include_colab_link": true
    },
    "kernelspec": {
      "display_name": "Python 3",
      "name": "python3"
    },
    "language_info": {
      "name": "python"
    }
  },
  "nbformat": 4,
  "nbformat_minor": 0
}